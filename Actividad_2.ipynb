{
 "cells": [
  {
   "cell_type": "markdown",
   "metadata": {},
   "source": [
    "Actividad sustitutiva\n",
    "\n",
    "Medidas para describir conjuntos de datos."
   ]
  },
  {
   "cell_type": "markdown",
   "metadata": {},
   "source": [
    "Media:"
   ]
  },
  {
   "cell_type": "code",
   "execution_count": 108,
   "metadata": {},
   "outputs": [],
   "source": [
    "from math import *\n",
    "\n",
    "\"\"\"\n",
    "\n",
    "def media(list): Define una función llamada media que toma una lista como entrada.\n",
    "\n",
    "total_sum = 0: Se inicializa una variable total_sum en 0 para almacenar la suma de todos los elementos de la lista.\n",
    "media = 0: Se inicializa una variable media en 0 para almacenar el valor final de la media.\n",
    "\n",
    "\n",
    "for i in list: Se inicia un bucle for para recorrer cada elemento i de la lista.\n",
    "\n",
    "Cálculo de la suma total:\n",
    "total_sum = i + total_sum: En cada iteración, se suma el valor actual i a la total_sum.\n",
    "\n",
    "Cálculo de la media:\n",
    "media = total_sum / len(list): Una vez que se ha calculado la suma total, se divide entre el número de elementos de la lista (obtenido con len(list)) para obtener la media.\n",
    "\n",
    "return media: Se devuelve el valor de la media como resultado de la función.\n",
    " \"\"\"\n",
    "\n",
    "def media (list):\n",
    "    \n",
    "    total_sum = 0\n",
    "    media = 0\n",
    "    for i in list:\n",
    "        total_sum = i + total_sum\n",
    "    media = total_sum / len(list)\n",
    "    return media\n",
    "\n",
    "# Es correcta la intuición, no obstante puedes simplificar el código dado que el único requisito era usar funciones nativas\n",
    "def media(datos): \n",
    "    return sum(datos) / len(datos)"
   ]
  },
  {
   "cell_type": "markdown",
   "metadata": {},
   "source": [
    "Mediana: "
   ]
  },
  {
   "cell_type": "code",
   "execution_count": 109,
   "metadata": {},
   "outputs": [],
   "source": [
    "\"\"\"\n",
    "\n",
    "list.sort(): Ordena la lista de menor a mayor. Esto es fundamental para encontrar el valor central.\n",
    "\n",
    "if len(list) % 2 == 1:: Si el residuo de dividir la longitud de la lista entre 2 es 1, significa que la lista tiene un número impar de elementos.\n",
    "\n",
    "Calcular la mediana para listas impares:\n",
    "mediana = int((len(list)+1)/2): Calcula el índice de la mediana sumando 1 a la longitud, dividiendo entre 2 y convirtiendo a entero. Al restar 1 al índice obtenido, se accede al elemento central de la lista.\n",
    "Return: retorna el valor de la mediana\n",
    "\n",
    "Calcular la mediana para listas pares:\n",
    "mediana = int(((len(list)/2)+((len(list)/2)+1)) / 2): Calcula el índice promedio de los dos valores centrales.\n",
    "Return: retorna el valor de la mediana\n",
    "\n",
    "\n",
    "\"\"\"\n",
    "\n",
    "def mediana (list):\n",
    "    \n",
    "    list.sort()\n",
    "    if len(list) % 2 == 1:\n",
    "        mediana = int((len(list)+1)/2)\n",
    "        return list[mediana - 1]\n",
    "    else:\n",
    "        mediana = int(((len(list)/2)+((len(list)/2)+1)) / 2)\n",
    "        return (list[mediana - 1 ]+list[mediana])/2\n",
    "    \n"
   ]
  },
  {
   "cell_type": "markdown",
   "metadata": {},
   "source": [
    "Moda: "
   ]
  },
  {
   "cell_type": "code",
   "execution_count": 110,
   "metadata": {},
   "outputs": [],
   "source": [
    "'''\n",
    "\n",
    "y = 0: Se inicializa una variable y en 0 para almacenar la frecuencia máxima encontrada hasta el momento.\n",
    "moda = 0: Se inicializa una variable moda en 0 para almacenar el valor que se repite más veces.\n",
    "\n",
    "for i in list: Se inicia un bucle for para recorrer cada elemento i de la lista.\n",
    "\n",
    "x = list.count(i): Se cuenta cuántas veces aparece el elemento actual i en toda la lista y se almacena el resultado en x.\n",
    "\n",
    "if x > y: Si la frecuencia actual x es mayor que la frecuencia máxima registrada y:\n",
    "y = x: Se actualiza la frecuencia máxima y con el nuevo valor x.\n",
    "moda = i: Se actualiza el valor de la moda moda con el elemento actual i, ya que es el que se repite más veces hasta ese momento.\n",
    "\n",
    "retorno:\n",
    "return moda: Se devuelve el valor de la moda como resultado de la función.\n",
    "'''\n",
    "\n",
    "def moda (list):\n",
    "    y = 0\n",
    "    moda = 0 \n",
    "    for i in list:\n",
    "        x = list.count(i)\n",
    "        \n",
    "        if  x > y :\n",
    "            y = x\n",
    "            moda = i\n",
    "    return moda\n",
    "\n",
    "# acá tienes otra alternativa que puedes explorar. pero muy bien la intuición. \n",
    "\n",
    "def moda(datos):\n",
    "    conteo = {}\n",
    "    for i in datos:\n",
    "        conteo[i] = conteo.get(i, 0) + 1\n",
    "    return max(conteo, key=conteo.get)"
   ]
  },
  {
   "cell_type": "markdown",
   "metadata": {},
   "source": [
    "Varianza:"
   ]
  },
  {
   "cell_type": "code",
   "execution_count": 112,
   "metadata": {},
   "outputs": [],
   "source": [
    "'''\n",
    "E: Inicializada en 0, esta variable acumulará la suma de las diferencias al cuadrado entre cada valor y la media.\n",
    "avg: Almacena el valor de la media de la lista.\n",
    "\n",
    "Se llama a la función media(list) para obtener el promedio de los valores en la lista.\n",
    "Iteración sobre la lista:\n",
    "Se recorre cada elemento i de la lista.\n",
    "Para cada elemento, se calcula la diferencia entre el valor actual i y la media avg, y se eleva al cuadrado.\n",
    "El resultado del cálculo anterior se suma a la variable E, que va acumulando la suma de todas las diferencias al cuadrado.\n",
    "\n",
    "Al finalizar el bucle, se divide la suma acumulada E entre el número de elementos de la lista (obtenido con len(list)). Esto corresponde a la fórmula de la varianza.\n",
    "\n",
    "Se devuelve el valor de la varianza como resultado de la función.\n",
    "'''\n",
    "\n",
    "\n",
    "def varianza (list):\n",
    "    \n",
    "    E = 0 \n",
    "    avg = media(list)\n",
    "    for i in list:\n",
    "        E = ((i - avg) ** 2 + E)\n",
    "    return (E/len(list))\n",
    "\n",
    "# Recuerda que es importante siempre resumir código, se trata de hacer los mas con menos: eficiencia.\n",
    "def varianza(datos):\n",
    "    med = media(datos)\n",
    "    return sum((x - med) ** 2 for x in datos) / len(datos)"
   ]
  },
  {
   "cell_type": "markdown",
   "metadata": {},
   "source": [
    "Desviación estandar:"
   ]
  },
  {
   "cell_type": "code",
   "execution_count": 113,
   "metadata": {},
   "outputs": [],
   "source": [
    "'''\n",
    "def desvesta(list): Define una función llamada desvesta que toma una lista como entrada.\n",
    "\n",
    "Cálculo de la varianza:\n",
    "desve = varianza(list): Llama a la función varianz para calcular la varianza de la lista y asigna el resultado a la variable desve.\n",
    "\n",
    "Cálculo de la desviación estándar:\n",
    "desve = sqrt(desve): Calcula la raíz cuadrada de la varianza y asigna el nuevo resultado a desve. La raíz cuadrada de la varianza es la desviación estándar.\n",
    "\n",
    "retorno:\n",
    "\n",
    "return desve: Devuelve el valor de la desviación estándar como resultado de la función.\n",
    "\n",
    "'''\n",
    "\n",
    "def desvesta (list):\n",
    "    desve = varianza(list)\n",
    "    desve = sqrt(desve)\n",
    "    return desve"
   ]
  },
  {
   "cell_type": "markdown",
   "metadata": {},
   "source": [
    "Coeficiente de variación:"
   ]
  },
  {
   "cell_type": "code",
   "execution_count": 114,
   "metadata": {},
   "outputs": [],
   "source": [
    "'''\n",
    "\n",
    "def variacion_coef(list): Define una función llamada variacion_coef que toma una lista como entrada.\n",
    "\n",
    "Cálculo del coeficiente de variación:\n",
    "var_coe = desvesta(list) / media(list):\n",
    "desvesta(list): Esta función calcula la desviación estándar de la lista .\n",
    "media(list): Esta función calcula la media de la lista.\n",
    "\n",
    "Se divide la desviación estándar entre la media para obtener el coeficiente de variación, luego se multiplica por 100 para obtenerlo como un porcentaje.\n",
    "\n",
    "retorno:\n",
    "return var_coe: Devuelve el valor del coeficiente de variación como resultado de la función.\n",
    "\n",
    "\n",
    "'''\n",
    "\n",
    "def variacion_coef (list):\n",
    "    \n",
    "    var_coe = (desvesta(list) / media(list))*100\n",
    "    return var_coe\n",
    "\n",
    "\n"
   ]
  },
  {
   "cell_type": "markdown",
   "metadata": {},
   "source": [
    "Normalización Z:"
   ]
  },
  {
   "cell_type": "code",
   "execution_count": 115,
   "metadata": {},
   "outputs": [],
   "source": [
    "''''\n",
    "\n",
    "Definir la función normalizacion_z:\n",
    "\n",
    "Parámetro list: Recibe la lista de valores que se van a normalizar.\n",
    "\n",
    "Cálculo de la media y desviación estándar: Llama a las funciones media y desvesta para obtener estos valores.\n",
    "\n",
    "Creación de una nueva lista: Se crea una lista vacía z_scores para almacenar los valores normalizados.\n",
    "\n",
    "Iteración y normalización: Se itera sobre cada valor x de la lista original y se aplica la fórmula de normalización Z: z = (x - mean) / std_dev. El resultado se agrega a la lista z_scores.\n",
    "\n",
    "Retorno: Se devuelve la lista z_scores con los valores normalizados.\n",
    "'''\n",
    "\n",
    "\n",
    "def normalizacion_z(list):\n",
    "    \n",
    "    mean = media(list)\n",
    "    std_dev = desvesta(list)\n",
    "\n",
    "    # Creamos una nueva lista para almacenar los valores normalizados\n",
    "    z_scores = []\n",
    "\n",
    "    # Iteramos sobre cada valor de la lista original\n",
    "    for x in list:\n",
    "        # Aplicamos la fórmula de normalización Z\n",
    "        z = (x - mean) / std_dev\n",
    "        z_scores.append(z)\n",
    "\n",
    "    return z_scores\n"
   ]
  },
  {
   "cell_type": "markdown",
   "metadata": {},
   "source": [
    "Test:"
   ]
  },
  {
   "cell_type": "code",
   "execution_count": 116,
   "metadata": {},
   "outputs": [
    {
     "name": "stdout",
     "output_type": "stream",
     "text": [
      "la media es:  5.090909090909091\n",
      "----------------------------------------\n",
      "la mediana es:  5\n",
      "----------------------------------------\n",
      "la moda es:  4\n",
      "----------------------------------------\n",
      "la varianza es:  5.900826446280991\n",
      "----------------------------------------\n",
      "la desviacion estandar es:  2.4291616756158887\n",
      "----------------------------------------\n",
      "el coeficiente de variacion es:  47.71567577102638\n",
      "----------------------------------------\n",
      "La normalizacion z es:  [-1.6840826742715194, -1.2724180205607034, -0.8607533668498877, -0.4490887131390718, -0.4490887131390718, -0.037424059428255954, 0.3742405942825599, 0.7859052479933758, 0.7859052479933758, 1.1975699017041916, 1.6092345554150074]\n"
     ]
    }
   ],
   "source": [
    "numbers = [1,3,4,7,9,6,5,4,7,2,8]\n",
    "\n",
    "media_Test = media(numbers)\n",
    "print('la media es: ',media_Test)\n",
    "print('----------------------------------------')\n",
    "mediana_Test = mediana(numbers)\n",
    "print('la mediana es: ',mediana_Test)\n",
    "print('----------------------------------------')\n",
    "moda_Test = moda(numbers)\n",
    "print('la moda es: ',moda_Test)\n",
    "print('----------------------------------------')\n",
    "varianza_Test = varianza(numbers)\n",
    "print('la varianza es: ',varianza_Test)\n",
    "print('----------------------------------------')\n",
    "Desvesta_Test = desvesta(numbers)\n",
    "print('la desviacion estandar es: ', Desvesta_Test)\n",
    "print('----------------------------------------')\n",
    "coeficiente_de_Var_Test = variacion_coef(numbers)\n",
    "print('el coeficiente de variacion es: ', coeficiente_de_Var_Test)\n",
    "print('----------------------------------------')\n",
    "normalizacion_z_Test = normalizacion_z(numbers)\n",
    "print('La normalizacion z es: ', normalizacion_z_Test)"
   ]
  },
  {
   "cell_type": "code",
   "execution_count": null,
   "metadata": {},
   "outputs": [],
   "source": []
  }
 ],
 "metadata": {
  "kernelspec": {
   "display_name": "Python 3",
   "language": "python",
   "name": "python3"
  },
  "language_info": {
   "codemirror_mode": {
    "name": "ipython",
    "version": 3
   },
   "file_extension": ".py",
   "mimetype": "text/x-python",
   "name": "python",
   "nbconvert_exporter": "python",
   "pygments_lexer": "ipython3",
   "version": "3.12.1"
  }
 },
 "nbformat": 4,
 "nbformat_minor": 2
}
