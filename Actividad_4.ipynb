{
 "cells": [
  {
   "cell_type": "markdown",
   "metadata": {},
   "source": [
    "Actividad 4."
   ]
  },
  {
   "cell_type": "markdown",
   "metadata": {},
   "source": [
    "Ejercicio 1\n",
    "\n",
    "Escribir un programa en Python que declare una lista y la vaya llenando de números hasta\n",
    "que introduzcamos un número negativo. Entonces se debe imprimir el vector (sólo los\n",
    "valores introducidos)."
   ]
  },
  {
   "cell_type": "code",
   "execution_count": 5,
   "metadata": {},
   "outputs": [
    {
     "name": "stdout",
     "output_type": "stream",
     "text": [
      "lista antes de usar pop() [1.0, 2.0, 3.0, 4.0, 5.0, 6.0, 7.0, 8.0, 9.0, -1.0]\n",
      "---------------------------------\n",
      "lista despues de usar pop() [1.0, 2.0, 3.0, 4.0, 5.0, 6.0, 7.0, 8.0, 9.0]\n"
     ]
    }
   ],
   "source": [
    "#En el codigo inicializamos una variable con valor 0, esta variable la usaremos para que reciba los valores que introducirá el usuario.\n",
    "#en el ciclo while realizamos la comparación, si el numero que ingresa el usuario es positivo se agrega a la lista y cuando sea negativo se termina el ciclo.\n",
    "#Al salir del ciclo realizamos usamos la funcion pop() para eliminar el último elemento guardado el cuál sería el numero negativo.\n",
    "\n",
    "num = 0\n",
    "lista = []\n",
    "while num >= 0:\n",
    "    num = float(input('Ingrese un numero: '))\n",
    "    lista.append(num)\n",
    "print('lista antes de usar pop()',lista)\n",
    "print('---------------------------------')\n",
    "lista.pop(len(lista)-1)\n",
    "print('lista despues de usar pop()',lista)\n",
    "    \n"
   ]
  },
  {
   "cell_type": "markdown",
   "metadata": {},
   "source": [
    "Ejercicio 2\n",
    "\n",
    "Escribir un programa en Python que declare tres listas ‘lista1’, ‘lista2’ y ‘lista3’ de cinco\n",
    "enteros cada uno, pida valores para ‘lista1’ y ‘lista2’ y calcule lista3=lista1+lista2."
   ]
  },
  {
   "cell_type": "code",
   "execution_count": 9,
   "metadata": {},
   "outputs": [
    {
     "name": "stdout",
     "output_type": "stream",
     "text": [
      "Digite los numeros de la primera lista:\n",
      "Lista 1:  [1, 2, 3, 4, 5]\n",
      "Digite los numeros de la segunda lista:\n",
      "Lista 2:  [1, 2, 3, 4, 5]\n",
      "Lista 3: [2, 4, 6, 8, 10]\n"
     ]
    }
   ],
   "source": [
    "\"\"\"\n",
    "Primero declaramos tres listas las cuales usaremos para nuestro ejercicio, declaramos una variable count la cual servira como contador, en el primer ciclo while lo usamos de manera ascendente y en el segundo\n",
    "de manera descendente para solo utilizar una variable, con estos ciclos llenamos nuestras dos primeras listas.\n",
    "Luego utilizamos un ciclo for para realizar la suma de las primeras dos listas en lista3, la iremos llenando a medida que el for se ejecute con los subindices indicados realizando la suma correspondiente.\n",
    "\n",
    "\"\"\"\n",
    "\n",
    "\n",
    "lista1 = []\n",
    "lista2 = [] \n",
    "lista3 = [] \n",
    "count = 0\n",
    "\n",
    "print('Digite los numeros de la primera lista:')\n",
    "while count < 5:\n",
    "    num = int(input())\n",
    "    lista1.append(num)\n",
    "    count = count + 1\n",
    "print('Lista 1: ',lista1)\n",
    "\n",
    "print('Digite los numeros de la segunda lista:')\n",
    "while count > 0:\n",
    "    num = int(input())\n",
    "    lista2.append(num)\n",
    "    count = count -1\n",
    "print('Lista 2: ',lista2)\n",
    "\n",
    "for i in range (0,5):\n",
    "    lista3.append(lista1[i] + lista2[i])\n",
    "print ('Lista 3:',lista3)\n"
   ]
  },
  {
   "cell_type": "markdown",
   "metadata": {},
   "source": [
    "Ejercicio 3\n",
    "\n",
    "Escribir un programa en Python que guarde la temperatura mínima y máxima de los\n",
    "últimos 5 días. El programa debe recibir la información, almacenarla y mostrar:\n",
    "\n",
    "● La temperatura media de cada día\n",
    "\n",
    "● Los días con menor temperatura\n",
    "\n",
    "● Después de almacenar la información de los 5 días, el programa debe recibir una\n",
    "temperatura más por teclado y mostrar los días cuya temperatura máxima coincide\n",
    "con ella. si no existe ningún día se muestra un mensaje de información.\n"
   ]
  },
  {
   "cell_type": "code",
   "execution_count": 2,
   "metadata": {},
   "outputs": [
    {
     "name": "stdout",
     "output_type": "stream",
     "text": [
      "la temperatura media del dia 1 es:  8.5\n",
      "la temperatura media del dia 2 es:  7.5\n",
      "la temperatura media del dia 3 es:  6.5\n",
      "la temperatura media del dia 4 es:  5.5\n",
      "la temperatura media del dia 5 es:  4.5\n",
      "Dias con la temperatura mas baja:  [5]\n",
      "Dias con la temperatura maxima que ingreso el usuario:  [2]\n"
     ]
    }
   ],
   "source": [
    "\n",
    "'''\n",
    "definimos una lista temperatura en la cual se guardaran la temperatura minima y maxima que digitara el usuario, luego de esto realizamos un ciclo for para calcular la temperatura media de los dias, en el cual\n",
    "utilizamos los subindices de la lista para acceder a temperatura minuima y temperatura maxima, de esta manera calculamos la temperatura media.\n",
    "\n",
    "Luego de esto inicializamos una variable x con un valor que sabemos siempre será superior a la temperatura mínima, luego de esto creamos una nueva lista en la cual guardaremos que días tienen la temperatura mínima.\n",
    "Luego de esto utilizamos un ciclo for para recorrer la totalidad de la lista de temperaturas inicial, para comprobar que días tienen la menor temperatura usamos un if y un elif, el if se activará cuando el valor mínimo sea \n",
    "menor que el valor anterior, de esta manera limpiamos la lista con la funcion clear() y agregamos ese nuevo valor minimo a la lista, cuando encontramos que hay otro día con la misma temperatura mínima será el elif el que actue \n",
    "y este ya no eliminará los valores guardados anteriormente sino simplemente añadirá el valor del día a la lista.\n",
    "\n",
    "De la misma manera para comprobar los dias con la misma temperatura maxima ingresada por el usuario utilizamos un ciclo for para recorrer la lista de temperatura y si la temperatura coincide se va agregando a una nueva lista\n",
    "el dia en el cual coinciden las temperaturas, utilizamos un if para comprobar que exista al menos un dia en el cual coincida la temperatura maxima con la ingresada y si no se cumple informamos al usuario que no hay ningun dia con esa misma temperatura\n",
    "'''\n",
    "temperatura = []\n",
    "for i in range(0,5):\n",
    "    temp_min = int(input('digite la temperatura minima:'))\n",
    "    temp_max = int(input('digite la temperatura maxima:'))\n",
    "    temp_dia = [temp_min,temp_max]\n",
    "    temperatura.append(temp_dia)\n",
    "\n",
    "for i in range(0,5):\n",
    "    \n",
    "    temp_media = (temperatura[i][0]+temperatura[i][1])/2\n",
    "    print(f'la temperatura media del dia {i + 1} es: ',temp_media)\n",
    "\n",
    "\n",
    "x = 1000\n",
    "dias_temp_min= []\n",
    "for i in range(0,5):\n",
    "    \n",
    "    if temperatura[i][0] < x :\n",
    "        dias_temp_min.clear()\n",
    "        x = temperatura[i][0]\n",
    "        dias_temp_min.append(i+1)\n",
    "    elif temperatura[i][0] == x :\n",
    "        x = temperatura[i][0]\n",
    "        dias_temp_min.append(i+1)\n",
    "\n",
    "print('Dias con la temperatura mas baja: ',dias_temp_min)\n",
    "\n",
    "#temp max\n",
    "temp_max_comp = int(input('Temperatura maxima: '))       \n",
    "dias_temp_max = []\n",
    "for i in range(0,5):\n",
    "    \n",
    "    if temperatura[i][1] == temp_max_comp :\n",
    "        x = temperatura[i][1]\n",
    "        dias_temp_max.append(i+1)\n",
    "\n",
    "if len(dias_temp_max) > 0:\n",
    "    print('Dias con la temperatura maxima que ingreso el usuario: ',dias_temp_max) \n",
    "else :\n",
    "    print('La temperatura maxima ingresada no coincide con la temperatura maxima de ninguno de los dias')\n",
    "\n",
    "\n",
    "\n",
    "    \n"
   ]
  },
  {
   "cell_type": "markdown",
   "metadata": {},
   "source": [
    "Ejercicio 4\n",
    "\n",
    "Crea un programa en Python que permita adivinar un número. La aplicación genera un\n",
    "número aleatorio del 1 al 100. A continuación, va pidiendo números y va respondiendo si\n",
    "el número a adivinar es mayor o menor que el introducido, así como el número de intentos\n",
    "que quedan, se contarán con 10 intentos para adivinar el número. El programa termina\n",
    "cuando se acierta el número y debe indicar en que intento fue acertado, si se llega al límite\n",
    "de intentos, el programa debe mostrar que se había generado."
   ]
  },
  {
   "cell_type": "code",
   "execution_count": 1,
   "metadata": {},
   "outputs": [
    {
     "name": "stdout",
     "output_type": "stream",
     "text": [
      "El número a adivinar es menor a su número\n",
      "El número a adivinar es menor a su número\n",
      "El número a adivinar es menor a su número\n",
      "El número a adivinar es menor a su número\n",
      "El número a adivinar es menor a su número\n",
      "El número a adivinar es mayor a su número\n",
      "El número es correcto!!\n"
     ]
    }
   ],
   "source": [
    "'''\n",
    "importamos la libreria random con la cual generamos un numero aleatorio de 1 a 100, luego de esto creamos la variable x la cual tomará los valores que introduzca el usuario y la variable intentos con la cual nos aseguraremos \n",
    "de que el usuario tenga maximo 10 intentos.\n",
    "Creamos un ciclo while con el cual nos aeguramos que cuando alguna de las condiciones sea falso se termina el ciclo y por lo tanto el juego.\n",
    "Dentro del while se va cambiando el valor de x cada que el usuario escribe un número, también damos pistas dependiendo si el número es mayor o menor que el número generado, esto se hace con el if y con el elif, la sentencia \n",
    "else sólo se activará si el usuario adivina el número antes de los 10 intentos.\n",
    "\n",
    "'''\n",
    "\n",
    "\n",
    "import random\n",
    "num = random.randrange(1,100,1)\n",
    "x = 0\n",
    "intentos = 0\n",
    "while x != num and intentos < 10:\n",
    "    intentos = intentos + 1\n",
    "    x = int(input('digíte un numero del 1 al 100'))\n",
    "    if x > num:\n",
    "        print('El número a adivinar es menor a su número')\n",
    "    elif x < num:\n",
    "        print('El número a adivinar es mayor a su número')\n",
    "    else:\n",
    "        print('El número es correcto!!')\n",
    "if intentos == 10:\n",
    "    print('El numero generado era:', num)        \n",
    "    "
   ]
  },
  {
   "cell_type": "code",
   "execution_count": null,
   "metadata": {},
   "outputs": [],
   "source": []
  }
 ],
 "metadata": {
  "kernelspec": {
   "display_name": "Python 3",
   "language": "python",
   "name": "python3"
  },
  "language_info": {
   "codemirror_mode": {
    "name": "ipython",
    "version": 3
   },
   "file_extension": ".py",
   "mimetype": "text/x-python",
   "name": "python",
   "nbconvert_exporter": "python",
   "pygments_lexer": "ipython3",
   "version": "3.12.1"
  }
 },
 "nbformat": 4,
 "nbformat_minor": 2
}
