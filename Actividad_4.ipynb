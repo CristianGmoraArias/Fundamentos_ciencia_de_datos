{
 "cells": [
  {
   "cell_type": "markdown",
   "metadata": {},
   "source": [
    "Actividad 4."
   ]
  },
  {
   "cell_type": "markdown",
   "metadata": {},
   "source": [
    "Ejercicio 1\n",
    "\n",
    "Escribir un programa en Python que declare una lista y la vaya llenando de números hasta\n",
    "que introduzcamos un número negativo. Entonces se debe imprimir el vector (sólo los\n",
    "valores introducidos)."
   ]
  },
  {
   "cell_type": "code",
   "execution_count": 8,
   "metadata": {},
   "outputs": [
    {
     "name": "stdout",
     "output_type": "stream",
     "text": [
      "[1.0, 2.0, 3.0, 4.0, 5.0, 6.0, -1.0]\n"
     ]
    }
   ],
   "source": [
    "num = 0\n",
    "lista = []\n",
    "while num >= 0:\n",
    "    num = float(input('Ingrese un numero: '))\n",
    "    lista.append(num)\n",
    "\n",
    "print(lista)\n",
    "    \n"
   ]
  },
  {
   "cell_type": "markdown",
   "metadata": {},
   "source": [
    "Ejercicio 2\n",
    "\n",
    "Escribir un programa en Python que declare tres listas ‘lista1’, ‘lista2’ y ‘lista3’ de cinco\n",
    "enteros cada uno, pida valores para ‘lista1’ y ‘lista2’ y calcule lista3=lista1+lista2."
   ]
  },
  {
   "cell_type": "code",
   "execution_count": 3,
   "metadata": {},
   "outputs": [
    {
     "name": "stdout",
     "output_type": "stream",
     "text": [
      "Digite los numeros de la primera lista:\n",
      "[1]\n",
      "[1, 2]\n",
      "[1, 2, 3]\n",
      "[1, 2, 3, 4]\n",
      "[1, 2, 3, 4, 5]\n",
      "Digite los numeros de la segunda lista:\n",
      "[1]\n",
      "[1, 2]\n",
      "[1, 2, 3]\n",
      "[1, 2, 3, 4]\n",
      "[1, 2, 3, 4, 5]\n",
      "[2, 4, 6, 8, 10]\n"
     ]
    }
   ],
   "source": [
    "lista1 = []\n",
    "lista2 = [] \n",
    "lista3 = [] \n",
    "count = 0\n",
    "\n",
    "print('Digite los numeros de la primera lista:')\n",
    "while count < 5:\n",
    "    num = int(input())\n",
    "    lista1.append(num)\n",
    "    count = count + 1\n",
    "    print(lista1)\n",
    "\n",
    "\n",
    "print('Digite los numeros de la segunda lista:')\n",
    "while count > 0:\n",
    "    num = int(input())\n",
    "    lista2.append(num)\n",
    "    count = count -1\n",
    "    print(lista2)\n",
    "\n",
    "for i in range (0,5):\n",
    "    lista3.append(lista1[i] + lista2[i])\n",
    "print (lista3)\n"
   ]
  },
  {
   "cell_type": "markdown",
   "metadata": {},
   "source": [
    "Ejercicio 3\n",
    "\n",
    "Escribir un programa en Python que guarde la temperatura mínima y máxima de los\n",
    "últimos 5 días. El programa debe recibir la información, almacenarla y mostrar:\n",
    "\n",
    "● La temperatura media de cada día\n",
    "\n",
    "● Los días con menor temperatura\n",
    "\n",
    "● Después de almacenar la información de los 5 días, el programa debe recibir una\n",
    "temperatura más por teclado y mostrar los días cuya temperatura máxima coincide\n",
    "con ella. si no existe ningún día se muestra un mensaje de información.\n"
   ]
  },
  {
   "cell_type": "code",
   "execution_count": 2,
   "metadata": {},
   "outputs": [
    {
     "name": "stdout",
     "output_type": "stream",
     "text": [
      "la temperatura media del dia 1 es:  8.5\n",
      "la temperatura media del dia 2 es:  7.5\n",
      "la temperatura media del dia 3 es:  6.5\n",
      "la temperatura media del dia 4 es:  5.5\n",
      "la temperatura media del dia 5 es:  4.5\n",
      "Dias con la temperatura mas baja:  [5]\n",
      "Dias con la temperatura maxima que ingreso el usuario:  [2]\n"
     ]
    }
   ],
   "source": [
    "\n",
    "\n",
    "temperatura = []\n",
    "for i in range(0,5):\n",
    "    temp_min = int(input('digite la temperatura minima:'))\n",
    "    temp_max = int(input('digite la temperatura maxima:'))\n",
    "    temp_dia = [temp_min,temp_max]\n",
    "    temperatura.append(temp_dia)\n",
    "\n",
    "for i in range(0,5):\n",
    "    \n",
    "    temp_media = (temperatura[i][0]+temperatura[i][1])/2\n",
    "    print(f'la temperatura media del dia {i + 1} es: ',temp_media)\n",
    "\n",
    "\n",
    "x = 1000\n",
    "dias_temp_min= []\n",
    "for i in range(0,5):\n",
    "    \n",
    "    if temperatura[i][0] < x :\n",
    "        dias_temp_min.clear()\n",
    "        x = temperatura[i][0]\n",
    "        dias_temp_min.append(i+1)\n",
    "    elif temperatura[i][0] == x :\n",
    "        x = temperatura[i][0]\n",
    "        dias_temp_min.append(i+1)\n",
    "\n",
    "print('Dias con la temperatura mas baja: ',dias_temp_min)\n",
    "\n",
    "#temp max\n",
    "temp_max_comp = int(input('Temperatura maxima: '))       \n",
    "dias_temp_max = []\n",
    "for i in range(0,5):\n",
    "    \n",
    "    if temperatura[i][1] == temp_max_comp :\n",
    "        x = temperatura[i][1]\n",
    "        dias_temp_max.append(i+1)\n",
    "\n",
    "if len(dias_temp_max) > 0:\n",
    "    print('Dias con la temperatura maxima que ingreso el usuario: ',dias_temp_max) \n",
    "else :\n",
    "    print('La temperatura maxima ingresada no coincide con la temperatura maxima de ninguno de los dias')\n",
    "\n",
    "\n",
    "\n",
    "    \n"
   ]
  },
  {
   "cell_type": "markdown",
   "metadata": {},
   "source": [
    "Ejercicio 4\n",
    "\n",
    "Crea un programa en Python que permita adivinar un número. La aplicación genera un\n",
    "número aleatorio del 1 al 100. A continuación, va pidiendo números y va respondiendo si\n",
    "el número a adivinar es mayor o menor que el introducido, así como el número de intentos\n",
    "que quedan, se contarán con 10 intentos para adivinar el número. El programa termina\n",
    "cuando se acierta el número y debe indicar en que intento fue acertado, si se llega al límite\n",
    "de intentos, el programa debe mostrar que se había generado."
   ]
  },
  {
   "cell_type": "code",
   "execution_count": 11,
   "metadata": {},
   "outputs": [
    {
     "name": "stdout",
     "output_type": "stream",
     "text": [
      "El número a adivinar es menor a su número\n",
      "El número a adivinar es mayor a su número\n",
      "El número a adivinar es menor a su número\n",
      "El número a adivinar es mayor a su número\n",
      "El número a adivinar es menor a su número\n",
      "El número a adivinar es menor a su número\n",
      "El número a adivinar es menor a su número\n",
      "El número es correcto!!\n"
     ]
    }
   ],
   "source": [
    "import random\n",
    "num = random.randrange(1,100,1)\n",
    "x = 0\n",
    "intentos = 0\n",
    "while x != num and intentos < 10:\n",
    "    intentos = intentos + 1\n",
    "    x = int(input('digíte un numero del 1 al 100'))\n",
    "    if x > num:\n",
    "        print('El número a adivinar es menor a su número')\n",
    "    elif x < num:\n",
    "        print('El número a adivinar es mayor a su número')\n",
    "    else:\n",
    "        print('El número es correcto!!')\n",
    "if intentos == 10:\n",
    "    print('El numero generado era:', num)        \n",
    "    "
   ]
  },
  {
   "cell_type": "code",
   "execution_count": null,
   "metadata": {},
   "outputs": [],
   "source": []
  }
 ],
 "metadata": {
  "kernelspec": {
   "display_name": "Python 3",
   "language": "python",
   "name": "python3"
  },
  "language_info": {
   "codemirror_mode": {
    "name": "ipython",
    "version": 3
   },
   "file_extension": ".py",
   "mimetype": "text/x-python",
   "name": "python",
   "nbconvert_exporter": "python",
   "pygments_lexer": "ipython3",
   "version": "3.12.1"
  }
 },
 "nbformat": 4,
 "nbformat_minor": 2
}
